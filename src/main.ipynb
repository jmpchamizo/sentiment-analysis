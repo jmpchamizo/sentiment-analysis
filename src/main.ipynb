{
 "cells": [
  {
   "cell_type": "code",
   "execution_count": 11,
   "metadata": {},
   "outputs": [
    {
     "name": "stderr",
     "output_type": "stream",
     "text": [
      "[nltk_data] Downloading package vader_lexicon to\n",
      "[nltk_data]     /home/jmpchamizo/nltk_data...\n",
      "[nltk_data]   Package vader_lexicon is already up-to-date!\n"
     ]
    }
   ],
   "source": [
    "import similarity_utils as similarity\n",
    "from sklearn.metrics.pairwise import cosine_similarity as distance\n",
    "from random import sample\n",
    "import seaborn as sns\n",
    "import pandas as pd\n",
    "import numpy as np\n",
    "import matplotlib.pyplot as plt\n",
    "import sentiment_utils, similarity_utils, nltk\n",
    "from nltk.sentiment.vader import SentimentIntensityAnalyzer\n",
    "nltk.download('vader_lexicon')\n",
    "import requests\n",
    "from IPython.display import Image"
   ]
  },
  {
   "cell_type": "code",
   "execution_count": 2,
   "metadata": {},
   "outputs": [],
   "source": [
    "URL = \"http://localhost:5000/\"\n",
    "CREATE_USER = \"user/create/\"\n",
    "CREATE_CHAT = \"chat/create/\"\n",
    "users = [\"Alberto\", \"Gonzalo\", \"Ruben\", \"Roberto\", \"Pepe\"]\n",
    "chats = [\"Chat1\", \"Chat2\", \"Chat3\", \"Chat4\", \"Chat5\"]"
   ]
  },
  {
   "cell_type": "markdown",
   "metadata": {},
   "source": [
    "## Vamos a crear los usuarios del chat"
   ]
  },
  {
   "cell_type": "markdown",
   "metadata": {},
   "source": [
    "#### Nota: No esta ejecutado en la versión que envio para que sólo esten la conversaciones de Battlestar Gallactica, pero el código funciona y si se ejecuta se introducirán los users chats o mensajes"
   ]
  },
  {
   "cell_type": "markdown",
   "metadata": {},
   "source": [
    "### Introducimos usuarios:"
   ]
  },
  {
   "cell_type": "code",
   "execution_count": 4,
   "metadata": {},
   "outputs": [
    {
     "data": {
      "text/plain": [
       "{'Alberto': '5e500c294651858f07df8487',\n",
       " 'Gonzalo': '5e500c294651858f07df8488',\n",
       " 'Ruben': '5e500c294651858f07df8489',\n",
       " 'Roberto': '5e500c294651858f07df848a',\n",
       " 'Pepe': '5e500c294651858f07df848b'}"
      ]
     },
     "execution_count": 4,
     "metadata": {},
     "output_type": "execute_result"
    }
   ],
   "source": [
    "users_dict = dict()\n",
    "for user in users:\n",
    "    user_id = requests.get(f\"{URL}{CREATE_USER}{user}\").text[1:-1]\n",
    "    if user_id != \"Ya existe ese usuario\":\n",
    "        users_dict[user] = user_id\n",
    "users_dict"
   ]
  },
  {
   "cell_type": "code",
   "execution_count": 5,
   "metadata": {},
   "outputs": [
    {
     "data": {
      "text/plain": [
       "'\"5e500c294651858f07df8487\"'"
      ]
     },
     "execution_count": 5,
     "metadata": {},
     "output_type": "execute_result"
    }
   ],
   "source": [
    "requests.get(f\"{URL}{CREATE_USER}Alberto\").text"
   ]
  },
  {
   "cell_type": "markdown",
   "metadata": {},
   "source": [
    "### Introducimos chats"
   ]
  },
  {
   "cell_type": "code",
   "execution_count": 8,
   "metadata": {},
   "outputs": [
    {
     "data": {
      "text/plain": [
       "{'Chat1': 'a existe ese cha',\n",
       " 'Chat2': 'a existe ese cha',\n",
       " 'Chat3': 'a existe ese cha',\n",
       " 'Chat4': 'a existe ese cha',\n",
       " 'Chat5': 'a existe ese cha'}"
      ]
     },
     "execution_count": 8,
     "metadata": {},
     "output_type": "execute_result"
    }
   ],
   "source": [
    "chats_dict = dict()\n",
    "for chat in chats:\n",
    "    us = sample(list(users_dict.values()),2)\n",
    "    chat_id = requests.get(f\"{URL}{CREATE_CHAT}{chat}?users={','.join(us)}\").text[1:-1]\n",
    "    if chat_id != \"Ya existe ese chat\":\n",
    "        chats_dict[chat] = chat_id\n",
    "chats_dict"
   ]
  },
  {
   "cell_type": "markdown",
   "metadata": {},
   "source": [
    "### Añadimos mensajes"
   ]
  },
  {
   "cell_type": "code",
   "execution_count": 9,
   "metadata": {},
   "outputs": [
    {
     "data": {
      "text/plain": [
       "'5e5397e65cb7df222b81dcf6'"
      ]
     },
     "execution_count": 9,
     "metadata": {},
     "output_type": "execute_result"
    }
   ],
   "source": [
    "chat_id = \"5e500c2b4651858f07df848d\"\n",
    "user_id = \"5e500c294651858f07df8489\"\n",
    "add_message = f\"/chat/{chat_id}/addmessage\"\n",
    "us = {\"user\": user_id,\n",
    "      \"text\": \"Hola\"  }\n",
    "\n",
    "message_id = requests.post(f\"{URL}{add_message}\", json = us).text[1:-1]\n",
    "\n",
    "message_id"
   ]
  },
  {
   "cell_type": "markdown",
   "metadata": {},
   "source": [
    "## Calculamos similaridades entre usuarios"
   ]
  },
  {
   "cell_type": "code",
   "execution_count": 10,
   "metadata": {},
   "outputs": [
    {
     "data": {
      "text/plain": [
       "Adama                    Lee\n",
       "Boomer            Number One\n",
       "Caprica-Six     Gaius Baltar\n",
       "Ellen Tigh             Adama\n",
       "Gaeta           Gaius Baltar\n",
       "Gaius Baltar       Saul Tigh\n",
       "Helo                   Gaeta\n",
       "Laura Roslin       Saul Tigh\n",
       "Lee                    Adama\n",
       "Number Five        Saul Tigh\n",
       "Number One         Saul Tigh\n",
       "Saul Tigh       Gaius Baltar\n",
       "Starbuck               Adama\n",
       "Tory                   Adama\n",
       "Tyrol                  Adama\n",
       "dtype: object"
      ]
     },
     "execution_count": 10,
     "metadata": {},
     "output_type": "execute_result"
    }
   ],
   "source": [
    "similarity.get_dataframe_similarity_users().idxmax()"
   ]
  },
  {
   "cell_type": "markdown",
   "metadata": {},
   "source": [
    "### Los resultados son interesantes ya que Lee y Adama son padre e hijo"
   ]
  },
  {
   "cell_type": "code",
   "execution_count": 11,
   "metadata": {},
   "outputs": [
    {
     "data": {
      "text/plain": [
       "\"User doesn't exist\""
      ]
     },
     "execution_count": 11,
     "metadata": {},
     "output_type": "execute_result"
    }
   ],
   "source": [
    "similarity.get_user_similarity(\"Jose\")"
   ]
  },
  {
   "cell_type": "code",
   "execution_count": 12,
   "metadata": {},
   "outputs": [
    {
     "data": {
      "text/plain": [
       "Lee             0.569202\n",
       "Starbuck        0.540491\n",
       "Saul Tigh       0.529781\n",
       "Ellen Tigh      0.514585\n",
       "Gaius Baltar    0.492544\n",
       "Name: Adama, dtype: float64"
      ]
     },
     "execution_count": 12,
     "metadata": {},
     "output_type": "execute_result"
    }
   ],
   "source": [
    "similarity.get_user_similarity(\"Adama\")"
   ]
  },
  {
   "cell_type": "markdown",
   "metadata": {},
   "source": [
    "### En este caso también salen resultatos muy chulos ya que las tres primeras recomendaciones son tres de las personas más importantes para Adama en la serie y en el caso de Starbuck, creo que no hay ningúna conversación entre ellos dos."
   ]
  },
  {
   "cell_type": "markdown",
   "metadata": {},
   "source": [
    "## Similaridades entre chats"
   ]
  },
  {
   "cell_type": "code",
   "execution_count": 4,
   "metadata": {},
   "outputs": [
    {
     "data": {
      "text/plain": [
       "City of the Gods             save the people\n",
       "I believe in this        I'm one of the Five\n",
       "I have no guilt          I'm one of the Five\n",
       "I'm one of the Five        I believe in this\n",
       "It's a frakking Cylon        save the people\n",
       "No one suspected         I'm one of the Five\n",
       "You love me!               I believe in this\n",
       "end the cycle of war     I'm one of the Five\n",
       "presentations            I'm one of the Five\n",
       "save the people             City of the Gods\n",
       "they let us go               save the people\n",
       "dtype: object"
      ]
     },
     "execution_count": 4,
     "metadata": {},
     "output_type": "execute_result"
    }
   ],
   "source": [
    "similarity.get_dataframe_similarity_chats().idxmax()"
   ]
  },
  {
   "cell_type": "code",
   "execution_count": 21,
   "metadata": {},
   "outputs": [
    {
     "data": {
      "text/plain": [
       "I'm one of the Five    0.354946\n",
       "save the people        0.347880\n",
       "presentations          0.341809\n",
       "You love me!           0.312489\n",
       "I believe in this      0.250435\n",
       "Name: No one suspected, dtype: float64"
      ]
     },
     "execution_count": 21,
     "metadata": {},
     "output_type": "execute_result"
    }
   ],
   "source": [
    "similarity.get_chat_similarity(\"No one suspected\")"
   ]
  },
  {
   "cell_type": "markdown",
   "metadata": {},
   "source": [
    "### Similaridades entere ususarios y chats en base a sentimientos."
   ]
  },
  {
   "cell_type": "code",
   "execution_count": 22,
   "metadata": {},
   "outputs": [
    {
     "data": {
      "text/plain": [
       "You love me!             0.890908\n",
       "I have no guilt          0.861626\n",
       "No one suspected         0.858176\n",
       "they let us go           0.818288\n",
       "It's a frakking Cylon    0.778962\n",
       "Name: Starbuck, dtype: float64"
      ]
     },
     "execution_count": 22,
     "metadata": {},
     "output_type": "execute_result"
    }
   ],
   "source": [
    "sentiment_utils.get_chats_for_user(\"Starbuck\")"
   ]
  },
  {
   "cell_type": "code",
   "execution_count": 23,
   "metadata": {},
   "outputs": [
    {
     "data": {
      "text/plain": [
       "You love me!             0.962812\n",
       "I have no guilt          0.867973\n",
       "No one suspected         0.976103\n",
       "they let us go           0.991238\n",
       "It's a frakking Cylon    0.992358\n",
       "Name: Adama, dtype: float64"
      ]
     },
     "execution_count": 23,
     "metadata": {},
     "output_type": "execute_result"
    }
   ],
   "source": [
    "sentiment_utils.get_chats_for_user(\"Adama\")"
   ]
  },
  {
   "cell_type": "markdown",
   "metadata": {},
   "source": [
    "### Pruebas con la api"
   ]
  },
  {
   "cell_type": "code",
   "execution_count": 29,
   "metadata": {},
   "outputs": [
    {
     "data": {
      "text/plain": [
       "'{\"Saul Tigh\": 0.6524412723262752, \"Laura Roslin\": 0.6160988025205353, \"Caprica-Six\": 0.5923476791369434, \"Number One\": 0.5507095166444731, \"Adama\": 0.4925436111462105}'"
      ]
     },
     "execution_count": 29,
     "metadata": {},
     "output_type": "execute_result"
    }
   ],
   "source": [
    "requests.get(f\"{URL}user/Gaius Baltar/similarity\").text"
   ]
  },
  {
   "cell_type": "code",
   "execution_count": 30,
   "metadata": {},
   "outputs": [
    {
     "data": {
      "text/plain": [
       "'{\"I\\'m one of the Five\": 0.49946033443529614, \"save the people\": 0.47419941283472683, \"You love me!\": 0.43130290941990734, \"I believe in this\": 0.43049760200050513, \"presentations\": 0.39968304204565114}'"
      ]
     },
     "execution_count": 30,
     "metadata": {},
     "output_type": "execute_result"
    }
   ],
   "source": [
    "requests.get(f\"{URL}chat/end the cycle of war/similarity\").text"
   ]
  },
  {
   "cell_type": "code",
   "execution_count": 31,
   "metadata": {},
   "outputs": [
    {
     "data": {
      "text/plain": [
       "'{\"You love me!\": 0.9596195230959763, \"I have no guilt\": 0.9289474653640429, \"No one suspected\": 0.9842711598509909, \"they let us go\": 0.9882270386526544, \"It\\'s a frakking Cylon\": 0.9682012875831076}'"
      ]
     },
     "execution_count": 31,
     "metadata": {},
     "output_type": "execute_result"
    }
   ],
   "source": [
    "requests.get(f\"{URL}user/Gaius Baltar/chats\").text"
   ]
  },
  {
   "cell_type": "markdown",
   "metadata": {},
   "source": [
    "#### Nota: Si se prueba el chat al introducir un nuevo usuario este no funcionará bien hasta que todos los usuarios tengan chat y mensajes."
   ]
  },
  {
   "cell_type": "code",
   "execution_count": 12,
   "metadata": {},
   "outputs": [
    {
     "data": {
      "image/jpeg": "[encoded data removed]",
      "text/plain": [
       "<IPython.core.display.Image object>"
      ]
     },
     "execution_count": 12,
     "metadata": {},
     "output_type": "execute_result"
    }
   ],
   "source": [
    "Image(filename = \"../img/so_say_we_all.jpg\")"
   ]
  }
 ],
 "metadata": {
  "kernelspec": {
   "display_name": "Python 3",
   "language": "python",
   "name": "python3"
  },
  "language_info": {
   "codemirror_mode": {
    "name": "ipython",
    "version": 3
   },
   "file_extension": ".py",
   "mimetype": "text/x-python",
   "name": "python",
   "nbconvert_exporter": "python",
   "pygments_lexer": "ipython3",
   "version": "3.7.5"
  }
 },
 "nbformat": 4,
 "nbformat_minor": 4
}
