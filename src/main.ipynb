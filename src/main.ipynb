{
 "cells": [
  {
   "cell_type": "code",
   "execution_count": 1,
   "metadata": {},
   "outputs": [],
   "source": [
    "import requests\n",
    "from random import sample"
   ]
  },
  {
   "cell_type": "code",
   "execution_count": 2,
   "metadata": {},
   "outputs": [],
   "source": [
    "URL = \"http://localhost:5000/\"\n",
    "CREATE_USER = \"user/create/\"\n",
    "CREATE_CHAT = \"chat/create/\"\n",
    "users = [\"Alberto\", \"Gonzalo\", \"Ruben\", \"Roberto\", \"Pepe\"]\n",
    "chats = [\"Chat1\", \"Chat2\", \"Chat3\", \"Chat4\", \"Chat5\"]"
   ]
  },
  {
   "cell_type": "markdown",
   "metadata": {},
   "source": [
    "## Vamos a crear los usuarios del chat"
   ]
  },
  {
   "cell_type": "code",
   "execution_count": 3,
   "metadata": {},
   "outputs": [
    {
     "data": {
      "text/plain": [
       "{'Alberto': '5e500c294651858f07df8487',\n",
       " 'Gonzalo': '5e500c294651858f07df8488',\n",
       " 'Ruben': '5e500c294651858f07df8489',\n",
       " 'Roberto': '5e500c294651858f07df848a',\n",
       " 'Pepe': '5e500c294651858f07df848b'}"
      ]
     },
     "execution_count": 3,
     "metadata": {},
     "output_type": "execute_result"
    }
   ],
   "source": [
    "users_dict = dict()\n",
    "for user in users:\n",
    "    user_id = requests.get(f\"{URL}{CREATE_USER}{user}\").text[1:-1]\n",
    "    if user_id != \"Ya existe ese usuario\":\n",
    "        users_dict[user] = user_id\n",
    "users_dict"
   ]
  },
  {
   "cell_type": "code",
   "execution_count": 4,
   "metadata": {},
   "outputs": [
    {
     "data": {
      "text/plain": [
       "'Ya existe ese usuario'"
      ]
     },
     "execution_count": 4,
     "metadata": {},
     "output_type": "execute_result"
    }
   ],
   "source": [
    "requests.get(f\"{URL}{CREATE_USER}Alberto\").text"
   ]
  },
  {
   "cell_type": "code",
   "execution_count": 5,
   "metadata": {},
   "outputs": [
    {
     "data": {
      "text/plain": [
       "{'Chat1': '5e500c2a4651858f07df848c',\n",
       " 'Chat2': '5e500c2b4651858f07df848d',\n",
       " 'Chat3': '5e500c2b4651858f07df848e',\n",
       " 'Chat4': '5e500c2b4651858f07df848f',\n",
       " 'Chat5': '5e500c2b4651858f07df8490'}"
      ]
     },
     "execution_count": 5,
     "metadata": {},
     "output_type": "execute_result"
    }
   ],
   "source": [
    "chats_dict = dict()\n",
    "for chat in chats:\n",
    "    us = sample(list(users_dict.values()),2)\n",
    "    chat_id = requests.get(f\"{URL}{CREATE_CHAT}{chat}?users={','.join(us)}\").text[1:-1]\n",
    "    if chat_id != \"Ya existe ese chat\":\n",
    "        chats_dict[chat] = chat_id\n",
    "chats_dict"
   ]
  },
  {
   "cell_type": "code",
   "execution_count": 14,
   "metadata": {},
   "outputs": [
    {
     "data": {
      "text/plain": [
       "'5e50113f6d30cccb66bf74d6'"
      ]
     },
     "execution_count": 14,
     "metadata": {},
     "output_type": "execute_result"
    }
   ],
   "source": [
    "chat_id = \"5e500c2b4651858f07df848d\"\n",
    "user_id = \"5e500c294651858f07df8489\"\n",
    "add_message = f\"/chat/{chat_id}/addmessage\"\n",
    "us = {\"user\": user_id,\n",
    "      \"text\": \"Mi primerito mensaje\"  }\n",
    "\n",
    "message_id = requests.post(f\"{URL}{add_message}\", json = us).text[1:-1]\n",
    "\n",
    "message_id"
   ]
  },
  {
   "cell_type": "code",
   "execution_count": null,
   "metadata": {},
   "outputs": [],
   "source": []
  },
  {
   "cell_type": "code",
   "execution_count": null,
   "metadata": {},
   "outputs": [],
   "source": []
  }
 ],
 "metadata": {
  "kernelspec": {
   "display_name": "Python 3",
   "language": "python",
   "name": "python3"
  },
  "language_info": {
   "codemirror_mode": {
    "name": "ipython",
    "version": 3
   },
   "file_extension": ".py",
   "mimetype": "text/x-python",
   "name": "python",
   "nbconvert_exporter": "python",
   "pygments_lexer": "ipython3",
   "version": "3.7.5"
  }
 },
 "nbformat": 4,
 "nbformat_minor": 4
}
